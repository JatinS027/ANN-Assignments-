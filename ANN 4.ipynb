{
 "cells": [
  {
   "cell_type": "code",
   "execution_count": 1,
   "metadata": {
    "colab": {
     "base_uri": "https://localhost:8080/",
     "height": 265
    },
    "executionInfo": {
     "elapsed": 431,
     "status": "ok",
     "timestamp": 1678783639439,
     "user": {
      "displayName": "2241 Shreyash Madake",
      "userId": "13206849318657850522"
     },
     "user_tz": -330
    },
    "id": "069cbbb5",
    "outputId": "497c80d1-493d-4342-e32a-48f1ef6c14c2"
   },
   "outputs": [
    {
     "data": {
      "image/png": "[encoded data removed]",
      "text/plain": [
       "<Figure size 432x288 with 1 Axes>"
      ]
     },
     "metadata": {
      "needs_background": "light"
     },
     "output_type": "display_data"
    }
   ],
   "source": [
    "#Perceprton Learning Law\n",
    "import numpy as np\n",
    "import matplotlib.pyplot as plt\n",
    "\n",
    "class Perceptron:\n",
    "    def __init__(self, input_dim, lr=0.1):\n",
    "        self.weights = np.random.randn(input_dim + 1)\n",
    "        self.lr = lr\n",
    "\n",
    "    def predict(self, inputs):\n",
    "        inputs = np.append(inputs, 1.0)\n",
    "        activation = np.dot(self.weights, inputs)\n",
    "        return np.where(activation > 0, 1, -1)\n",
    "\n",
    "    def train(self, inputs, targets, epochs):\n",
    "        for epoch in range(epochs):\n",
    "            for i, x in enumerate(inputs):\n",
    "                target = targets[i]\n",
    "                prediction = self.predict(x)\n",
    "                if prediction != target:\n",
    "                    error = target - prediction\n",
    "                    inputs_with_bias = np.append(x, 1.0)\n",
    "                    self.weights += self.lr * error * inputs_with_bias\n",
    "\n",
    "    def plot_decision_regions(self, inputs, targets):\n",
    "        x_min, x_max = inputs[:, 0].min() - 1, inputs[:, 0].max() + 1\n",
    "        y_min, y_max = inputs[:, 1].min() - 1, inputs[:, 1].max() + 1\n",
    "        xx, yy = np.meshgrid(np.arange(x_min, x_max, 0.1), np.arange(y_min, y_max, 0.1))\n",
    "        Z = np.array([self.predict(np.array([x, y])) for x, y in np.c_[xx.ravel(), yy.ravel()]])\n",
    "        Z = Z.reshape(xx.shape)\n",
    "        plt.contourf(xx, yy, Z, alpha=0.4)\n",
    "        plt.scatter(inputs[:, 0], inputs[:, 1], c=targets, edgecolors='black')\n",
    "        plt.show()\n",
    "\n",
    "# example usage\n",
    "inputs = np.array([[1, 2], [2, 3], [3, 1], [4, 3]])\n",
    "targets = np.array([1, 1, -1, -1])\n",
    "perceptron = Perceptron(input_dim=2)\n",
    "perceptron.train(inputs, targets, epochs=10)\n",
    "perceptron.plot_decision_regions(inputs, targets)\n"
   ]
  },
  {
   "cell_type": "code",
   "execution_count": null,
   "metadata": {
    "id": "553556d1"
   },
   "outputs": [],
   "source": [
    "# With a suitable example demonstrate the perceptron learning law with its decision regions using \n",
    "# python. Give the output in graphical form."
   ]
  }
 ],
 "metadata": {
  "colab": {
   "authorship_tag": "ABX9TyNWHX7AZG5OX3LnDnUkzzZi",
   "provenance": []
  },
  "kernelspec": {
   "display_name": "Python 3",
   "language": "python",
   "name": "python3"
  },
  "language_info": {
   "codemirror_mode": {
    "name": "ipython",
    "version": 3
   },
   "file_extension": ".py",
   "mimetype": "text/x-python",
   "name": "python",
   "nbconvert_exporter": "python",
   "pygments_lexer": "ipython3",
   "version": "3.8.5"
  }
 },
 "nbformat": 4,
 "nbformat_minor": 1
}
