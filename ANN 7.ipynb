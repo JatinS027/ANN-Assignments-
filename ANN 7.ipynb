{
 "cells": [
  {
   "cell_type": "code",
   "execution_count": null,
   "metadata": {
    "id": "WybbeYTS4LJq"
   },
   "outputs": [],
   "source": [
    "# Backpropagation for XOR function\n",
    "# Write a python program to show Back Propagation Network for XOR function with Binary Input \n",
    "# and Output"
   ]
  },
  {
   "cell_type": "code",
   "execution_count": 1,
   "metadata": {
    "id": "iBDarRSH1my5"
   },
   "outputs": [],
   "source": [
    "import numpy as np"
   ]
  },
  {
   "cell_type": "code",
   "execution_count": 2,
   "metadata": {
    "id": "jqP2Ux4S1oXw"
   },
   "outputs": [],
   "source": [
    "# Define the sigmoid activation function\n",
    "def sigmoid(x):\n",
    "    return 1 / (1 + np.exp(-x))"
   ]
  },
  {
   "cell_type": "code",
   "execution_count": 3,
   "metadata": {
    "id": "PvWLIdrY1qZn"
   },
   "outputs": [],
   "source": [
    "# Define the derivative of the sigmoid activation function\n",
    "def sigmoid_derivative(x):\n",
    "    return x * (1 - x)"
   ]
  },
  {
   "cell_type": "code",
   "execution_count": 4,
   "metadata": {
    "id": "3YyZrNeO1w19"
   },
   "outputs": [],
   "source": [
    "# Define the neural network class\n",
    "class NeuralNetwork:\n",
    "    def __init__(self, inputs, hidden, outputs):\n",
    "        # Initialize the weights for the input and hidden layers\n",
    "        self.weights_ih = np.random.rand(inputs, hidden)\n",
    "        # Initialize the weights for the hidden and output layers\n",
    "        self.weights_ho = np.random.rand(hidden, outputs)\n",
    "        \n",
    "    def feedforward(self, inputs):\n",
    "        # Calculate the dot product of the inputs and the weights for the input and hidden layers\n",
    "        hidden_inputs = np.dot(inputs, self.weights_ih)\n",
    "        # Apply the sigmoid activation function to the hidden layer\n",
    "        hidden_outputs = sigmoid(hidden_inputs)\n",
    "        # Calculate the dot product of the hidden layer and the weights for the hidden and output layers\n",
    "        output_inputs = np.dot(hidden_outputs, self.weights_ho)\n",
    "        # Apply the sigmoid activation function to the output layer\n",
    "        output_outputs = sigmoid(output_inputs)\n",
    "        return output_outputs\n",
    "    \n",
    "    def train(self, inputs, targets, learning_rate):\n",
    "        # Feed forward the inputs through the neural network\n",
    "        hidden_inputs = np.dot(inputs, self.weights_ih)\n",
    "        hidden_outputs = sigmoid(hidden_inputs)\n",
    "        output_inputs = np.dot(hidden_outputs, self.weights_ho)\n",
    "        output_outputs = sigmoid(output_inputs)\n",
    "        \n",
    "        # Calculate the error between the target outputs and the actual outputs\n",
    "        output_error = targets - output_outputs\n",
    "        \n",
    "        # Calculate the derivative of the sigmoid activation function for the output layer\n",
    "        output_derivative = sigmoid_derivative(output_outputs)\n",
    "        \n",
    "        # Calculate the error for the hidden layer\n",
    "        hidden_error = np.dot(output_error, self.weights_ho.T)\n",
    "        \n",
    "        # Calculate the derivative of the sigmoid activation function for the hidden layer\n",
    "        hidden_derivative = sigmoid_derivative(hidden_outputs)\n",
    "        \n",
    "        # Update the weights for the hidden and output layers\n",
    "        self.weights_ho += learning_rate * np.dot(hidden_outputs.T, output_error * output_derivative)\n",
    "        \n",
    "        # Update the weights for the input and hidden layers\n",
    "        self.weights_ih += learning_rate * np.dot(inputs.T, hidden_error * hidden_derivative)\n"
   ]
  },
  {
   "cell_type": "code",
   "execution_count": 5,
   "metadata": {
    "id": "ifHv1YIt16_i"
   },
   "outputs": [],
   "source": [
    "nn = NeuralNetwork(2, 4, 1)"
   ]
  },
  {
   "cell_type": "code",
   "execution_count": 6,
   "metadata": {
    "id": "rO7Xy5sj1_7V"
   },
   "outputs": [],
   "source": [
    "# Define the XOR inputs and targets\n",
    "inputs = np.array([[0, 0], [0, 1], [1, 0], [1, 1]])\n",
    "targets = np.array([[0], [1], [1], [0]])"
   ]
  },
  {
   "cell_type": "code",
   "execution_count": 7,
   "metadata": {
    "id": "0vEGhn3J2Cxi"
   },
   "outputs": [],
   "source": [
    "# Train the neural network on the XOR inputs and targets\n",
    "for i in range(10000):\n",
    "    nn.train(inputs, targets, 0.1)"
   ]
  },
  {
   "cell_type": "code",
   "execution_count": 8,
   "metadata": {
    "colab": {
     "base_uri": "https://localhost:8080/"
    },
    "executionInfo": {
     "elapsed": 17,
     "status": "ok",
     "timestamp": 1682920316323,
     "user": {
      "displayName": "2241 Shreyash Madake",
      "userId": "13206849318657850522"
     },
     "user_tz": -330
    },
    "id": "zg_izoCL2FpH",
    "outputId": "96d92c22-094f-4226-eabd-0840a6cf9ae3"
   },
   "outputs": [
    {
     "name": "stdout",
     "output_type": "stream",
     "text": [
      "[0.]\n",
      "[1.]\n",
      "[1.]\n",
      "[0.]\n"
     ]
    }
   ],
   "source": [
    "# Test the neural network on some inputs\n",
    "print(nn.feedforward(np.array([0, 0])).round()) # should output [[0]]\n",
    "print(nn.feedforward(np.array([0, 1])).round()) # should output [[1]]\n",
    "print(nn.feedforward(np.array([1, 0])).round()) # should output [[1]]\n",
    "print(nn.feedforward(np.array([1, 1])).round()) # should output [[0]]"
   ]
  },
  {
   "cell_type": "code",
   "execution_count": null,
   "metadata": {
    "id": "LrGQVuj23hbq"
   },
   "outputs": [],
   "source": []
  }
 ],
 "metadata": {
  "colab": {
   "authorship_tag": "ABX9TyMMBcxgkZ1A1wO3F3PpecHf",
   "provenance": []
  },
  "kernelspec": {
   "display_name": "Python 3",
   "language": "python",
   "name": "python3"
  },
  "language_info": {
   "codemirror_mode": {
    "name": "ipython",
    "version": 3
   },
   "file_extension": ".py",
   "mimetype": "text/x-python",
   "name": "python",
   "nbconvert_exporter": "python",
   "pygments_lexer": "ipython3",
   "version": "3.8.5"
  }
 },
 "nbformat": 4,
 "nbformat_minor": 1
}
