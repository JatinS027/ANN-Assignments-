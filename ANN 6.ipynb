{
 "cells": [
  {
   "cell_type": "code",
   "execution_count": 1,
   "metadata": {
    "id": "LPkMNY4iuXYp"
   },
   "outputs": [],
   "source": [
    "#. Write a python program to recognize the number 0, 1, 2, 39. A 5 * 3 matrix forms the numbers. For \n",
    "# any valid point it is taken as 1 and invalid point it is taken as 0. The net has to be trained to recognize \n",
    "# all the numbers and when the test data is given, the network has to recognize the particular numbers\n",
    "import numpy as np"
   ]
  },
  {
   "cell_type": "code",
   "execution_count": 2,
   "metadata": {
    "id": "OjDs0ffluh1h"
   },
   "outputs": [],
   "source": [
    "# Define the sigmoid activation function\n",
    "# Forward Propogation Back Propogation \n",
    "def sigmoid(x):\n",
    "    return 1 / (1 + np.exp(-x))"
   ]
  },
  {
   "cell_type": "code",
   "execution_count": 3,
   "metadata": {
    "id": "b66VsL1quk2N"
   },
   "outputs": [],
   "source": [
    "# Define the derivative of the sigmoid function\n",
    "def sigmoid_derivative(x):\n",
    "    return x * (1 - x)"
   ]
  },
  {
   "cell_type": "code",
   "execution_count": 4,
   "metadata": {
    "id": "066kdqHWuo4S"
   },
   "outputs": [],
   "source": [
    "# Define the training data\n",
    "X = np.array([[0, 0, 1],\n",
    "              [0, 1, 1],\n",
    "              [1, 0, 1],\n",
    "              [1, 1, 1]])\n",
    "\n",
    "y = np.array([[0],\n",
    "              [1],\n",
    "              [1],\n",
    "              [0]])"
   ]
  },
  {
   "cell_type": "code",
   "execution_count": 5,
   "metadata": {
    "id": "3UCmvm99uuc5"
   },
   "outputs": [],
   "source": [
    "# Define the hyperparameters\n",
    "epochs = 10000\n",
    "learning_rate = 0.1"
   ]
  },
  {
   "cell_type": "code",
   "execution_count": 6,
   "metadata": {
    "id": "tKkmzexquwh8"
   },
   "outputs": [],
   "source": [
    "# Initialize the weights randomly\n",
    "np.random.seed(1)\n",
    "weights_0 = 2 * np.random.random((3, 4)) - 1\n",
    "weights_1 = 2 * np.random.random((4, 1)) - 1"
   ]
  },
  {
   "cell_type": "code",
   "execution_count": 7,
   "metadata": {
    "id": "1fDtacUauICB"
   },
   "outputs": [],
   "source": [
    "# Train the neural network using forward propagation\n",
    "for i in range(epochs):\n",
    "    # Forward propagation\n",
    "    layer_0 = X\n",
    "    layer_1 = sigmoid(np.dot(layer_0, weights_0))\n",
    "    layer_2 = sigmoid(np.dot(layer_1, weights_1))\n",
    "    \n",
    "    # Calculate the error and delta for layer 2\n",
    "    layer_2_error = y - layer_2\n",
    "    layer_2_delta = layer_2_error * sigmoid_derivative(layer_2)\n",
    "    \n",
    "    # Calculate the error and delta for layer 1\n",
    "    layer_1_error = layer_2_delta.dot(weights_1.T)\n",
    "    layer_1_delta = layer_1_error * sigmoid_derivative(layer_1)\n",
    "    \n",
    "    # Update the weights\n",
    "    weights_1 += learning_rate * layer_1.T.dot(layer_2_delta)\n",
    "    weights_0 += learning_rate * layer_0.T.dot(layer_1_delta)\n",
    "    "
   ]
  },
  {
   "cell_type": "code",
   "execution_count": 8,
   "metadata": {
    "id": "0h48ei01vCs4"
   },
   "outputs": [],
   "source": [
    "# Test the neural network\n",
    "test_data = np.array([[0, 0, 1],\n",
    "                      [0, 1, 1],\n",
    "                      [1, 0, 1],\n",
    "                      [1, 1, 1]])"
   ]
  },
  {
   "cell_type": "code",
   "execution_count": 9,
   "metadata": {
    "colab": {
     "base_uri": "https://localhost:8080/"
    },
    "executionInfo": {
     "elapsed": 11,
     "status": "ok",
     "timestamp": 1682918202605,
     "user": {
      "displayName": "2241 Shreyash Madake",
      "userId": "13206849318657850522"
     },
     "user_tz": -330
    },
    "id": "NqrsvxqjvIQp",
    "outputId": "e68bfd4e-32b2-4925-a751-8e3a4bf91e4f"
   },
   "outputs": [
    {
     "name": "stdout",
     "output_type": "stream",
     "text": [
      "[[0.]\n",
      " [1.]\n",
      " [1.]\n",
      " [0.]]\n"
     ]
    }
   ],
   "source": [
    "predicted_output = sigmoid(np.dot(sigmoid(np.dot(test_data, weights_0)), weights_1)).round()\n",
    "print(predicted_output)"
   ]
  },
  {
   "cell_type": "markdown",
   "metadata": {
    "id": "1ec_TUHhy6zf"
   },
   "source": [
    "#Back propagation"
   ]
  },
  {
   "cell_type": "code",
   "execution_count": 10,
   "metadata": {
    "executionInfo": {
     "elapsed": 434,
     "status": "ok",
     "timestamp": 1682919514943,
     "user": {
      "displayName": "2241 Shreyash Madake",
      "userId": "13206849318657850522"
     },
     "user_tz": -330
    },
    "id": "9J4CgqDR0T92"
   },
   "outputs": [],
   "source": [
    "# Define the sigmoid activation function\n",
    "def sigmoid(x):\n",
    "    return 1 / (1 + np.exp(-x))\n",
    "\n",
    "# Define the derivative of the sigmoid function\n",
    "def sigmoid_derivative(x):\n",
    "    return x * (1 - x)"
   ]
  },
  {
   "cell_type": "code",
   "execution_count": 11,
   "metadata": {
    "executionInfo": {
     "elapsed": 55,
     "status": "ok",
     "timestamp": 1682919515462,
     "user": {
      "displayName": "2241 Shreyash Madake",
      "userId": "13206849318657850522"
     },
     "user_tz": -330
    },
    "id": "oTscxHua0Pvb"
   },
   "outputs": [],
   "source": [
    "# Define the training data\n",
    "X = np.array([[0, 0],\n",
    "              [0, 1],\n",
    "              [1, 0],\n",
    "              [1, 1]])\n",
    "\n",
    "y = np.array([[0],\n",
    "              [1],\n",
    "              [1],\n",
    "              [0]])"
   ]
  },
  {
   "cell_type": "code",
   "execution_count": 12,
   "metadata": {
    "executionInfo": {
     "elapsed": 55,
     "status": "ok",
     "timestamp": 1682919515464,
     "user": {
      "displayName": "2241 Shreyash Madake",
      "userId": "13206849318657850522"
     },
     "user_tz": -330
    },
    "id": "OhXJTomZ0aFF"
   },
   "outputs": [],
   "source": [
    "# Define the hyperparameters\n",
    "epochs = 10000\n",
    "learning_rate = 0.1"
   ]
  },
  {
   "cell_type": "code",
   "execution_count": 13,
   "metadata": {
    "executionInfo": {
     "elapsed": 5,
     "status": "ok",
     "timestamp": 1682919530298,
     "user": {
      "displayName": "2241 Shreyash Madake",
      "userId": "13206849318657850522"
     },
     "user_tz": -330
    },
    "id": "Q2tQX_Y8zEEI"
   },
   "outputs": [],
   "source": [
    "# Initialize the weights randomly\n",
    "np.random.seed(1)\n",
    "weights_0 = 2 * np.random.random((2, 4)) - 1\n",
    "weights_1 = 2 * np.random.random((4, 1)) - 1\n"
   ]
  },
  {
   "cell_type": "code",
   "execution_count": 14,
   "metadata": {
    "executionInfo": {
     "elapsed": 591,
     "status": "ok",
     "timestamp": 1682919531351,
     "user": {
      "displayName": "2241 Shreyash Madake",
      "userId": "13206849318657850522"
     },
     "user_tz": -330
    },
    "id": "PLgF-eOSzLko"
   },
   "outputs": [],
   "source": [
    "# Train the neural network using back propagation\n",
    "for i in range(epochs):\n",
    "    # Forward propagation\n",
    "    layer_0 = X\n",
    "    layer_1 = sigmoid(np.dot(layer_0, weights_0))\n",
    "    layer_2 = sigmoid(np.dot(layer_1, weights_1))\n",
    "    \n",
    "    # Calculate the error for layer 2\n",
    "    layer_2_error = y - layer_2\n",
    "    \n",
    "    # Back propagation for layer 2\n",
    "    layer_2_delta = layer_2_error * sigmoid_derivative(layer_2)\n",
    "    layer_1_error = layer_2_delta.dot(weights_1.T)\n",
    "    \n",
    "    # Back propagation for layer 1\n",
    "    layer_1_delta = layer_1_error * sigmoid_derivative(layer_1)\n",
    "    \n",
    "    # Update the weights\n",
    "    weights_1 += learning_rate * layer_1.T.dot(layer_2_delta)\n",
    "    weights_0 += learning_rate * layer_0.T.dot(layer_1_delta)\n"
   ]
  },
  {
   "cell_type": "code",
   "execution_count": 15,
   "metadata": {
    "executionInfo": {
     "elapsed": 5,
     "status": "ok",
     "timestamp": 1682919534654,
     "user": {
      "displayName": "2241 Shreyash Madake",
      "userId": "13206849318657850522"
     },
     "user_tz": -330
    },
    "id": "7mv4GoYlzTsF"
   },
   "outputs": [],
   "source": [
    "# Test the neural network\n",
    "test_data = np.array([[0, 0],\n",
    "                      [0, 1],\n",
    "                      [1, 0],\n",
    "                      [1, 1]])"
   ]
  },
  {
   "cell_type": "code",
   "execution_count": 16,
   "metadata": {
    "colab": {
     "base_uri": "https://localhost:8080/"
    },
    "executionInfo": {
     "elapsed": 6,
     "status": "ok",
     "timestamp": 1682919546618,
     "user": {
      "displayName": "2241 Shreyash Madake",
      "userId": "13206849318657850522"
     },
     "user_tz": -330
    },
    "id": "bJXGRFTVzW1R",
    "outputId": "d2ead4bb-0eeb-4ddb-cc87-2c86e2604d21"
   },
   "outputs": [
    {
     "name": "stdout",
     "output_type": "stream",
     "text": [
      "[[0.]\n",
      " [1.]\n",
      " [1.]\n",
      " [0.]]\n"
     ]
    }
   ],
   "source": [
    "predicted_output = sigmoid(np.dot(sigmoid(np.dot(test_data, weights_0)), weights_1)).round()\n",
    "print(predicted_output)"
   ]
  },
  {
   "cell_type": "code",
   "execution_count": null,
   "metadata": {},
   "outputs": [],
   "source": []
  }
 ],
 "metadata": {
  "colab": {
   "authorship_tag": "ABX9TyNtQWImohl34JgCrO0SnzBp",
   "provenance": []
  },
  "kernelspec": {
   "display_name": "Python 3",
   "language": "python",
   "name": "python3"
  },
  "language_info": {
   "codemirror_mode": {
    "name": "ipython",
    "version": 3
   },
   "file_extension": ".py",
   "mimetype": "text/x-python",
   "name": "python",
   "nbconvert_exporter": "python",
   "pygments_lexer": "ipython3",
   "version": "3.8.5"
  }
 },
 "nbformat": 4,
 "nbformat_minor": 1
}
