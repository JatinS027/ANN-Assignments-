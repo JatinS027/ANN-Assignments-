{
 "cells": [
  {
   "cell_type": "code",
   "execution_count": 1,
   "metadata": {
    "colab": {
     "base_uri": "https://localhost:8080/"
    },
    "executionInfo": {
     "elapsed": 399,
     "status": "ok",
     "timestamp": 1676970001356,
     "user": {
      "displayName": "2256 - Jatin Shinde",
      "userId": "05097901866867692517"
     },
     "user_tz": -330
    },
    "id": "oh-8-v71_8j3",
    "outputId": "2ce6dfae-e271-4953-b5e2-3e8855713ffd"
   },
   "outputs": [
    {
     "name": "stdout",
     "output_type": "stream",
     "text": [
      "v: 0.0\n",
      "result: 0\n",
      "v: 0.0\n",
      "[38] is even number\n",
      "v: 3.079882567965305e+135\n",
      "result: 1\n",
      "v: 3.079882567965305e+135\n",
      "[39] is odd number\n",
      "v: 0.0\n",
      "result: 0\n",
      "v: 0.0\n",
      "[40] is even number\n",
      "v: 3.079882567965305e+135\n",
      "result: 1\n",
      "v: 3.079882567965305e+135\n",
      "[91] is odd number\n",
      "v: 0.0\n",
      "result: 0\n",
      "v: 0.0\n",
      "[92] is even number\n",
      "v: 3.079882567965305e+135\n",
      "result: 1\n",
      "v: 3.079882567965305e+135\n",
      "[93] is odd number\n",
      "v: 0.0\n",
      "result: 0\n",
      "v: 0.0\n",
      "[94] is even number\n",
      "v: 3.079882567965305e+135\n",
      "result: 1\n",
      "v: 3.079882567965305e+135\n",
      "[95] is odd number\n",
      "v: 0.0\n",
      "result: 0\n",
      "v: 0.0\n",
      "[96] is even number\n",
      "v: 3.079882567965305e+135\n",
      "result: 1\n",
      "v: 3.079882567965305e+135\n",
      "[97] is odd number\n"
     ]
    },
    {
     "name": "stderr",
     "output_type": "stream",
     "text": [
      "<ipython-input-1-028cb0db3d53>:15: VisibleDeprecationWarning: Creating an ndarray from ragged nested sequences (which is a list-or-tuple of lists-or-tuples-or ndarrays with different lengths or shapes) is deprecated. If you meant to do this, you must specify 'dtype=object' when creating the ndarray.\n",
      "  test1 = np.array([[np.array([38]),1],\n"
     ]
    }
   ],
   "source": [
    "#Perceptron Learning Law\n",
    "#Recognize even and odd number given in ASCII from 0 to 9\n",
    "import numpy as np\n",
    "from numpy import random,dot\n",
    "from random import choice\n",
    "def unitstep(v):\n",
    "    print(\"v:\",v)\n",
    "    if v>0:\n",
    "        return 1                                                                                                                  \n",
    "    else:\n",
    "        return 0\n",
    "w = [2]\n",
    "b =  0\n",
    "excepted = np.array([[0],[1],[0],[1],[0],[1],[0],[1],[0]])\n",
    "test1 = np.array([[np.array([38]),1],\n",
    "                  [np.array([39]),0],\n",
    "                  [np.array([40]),1],\n",
    "                  [np.array([91]),0],                             \n",
    "                  [np.array([92]),1],   \n",
    "                  [np.array([93]),0],                                                                \n",
    "                  [np.array([94]),1],                         \n",
    "                  [np.array([95]),0],\n",
    "                  [np.array([96]),1],\n",
    "                  [np.array([97]),0]])\n",
    "n = 50\n",
    "for i in range(n):\n",
    "    x,exp = choice(test1)\n",
    "    res = dot(x,w)\n",
    "    err = exp-res\n",
    "    w += 0.1*err*x\n",
    "    \n",
    "for x,_ in test1:\n",
    "    result = dot(x%2,w)\n",
    "    print(\"result:\",unitstep(result))\n",
    "    tmp = unitstep(result)\n",
    "    if tmp>0:\n",
    "        print(x,\"is odd number\")\n",
    "    else:\n",
    "        print(x,\"is even number\")"
   ]
  },
  {
   "cell_type": "code",
   "execution_count": 3,
   "metadata": {},
   "outputs": [],
   "source": [
    "#. Write a Python Program using Perceptron Neural Network to recognise even and odd numbers. \n",
    "#Given numbers are in ASCII form 0 to 9"
   ]
  }
 ],
 "metadata": {
  "colab": {
   "provenance": [
    {
     "file_id": "1PrFaiMsdztg939GQd7oXuqISseeuPLxJ",
     "timestamp": 1677485807674
    }
   ]
  },
  "kernelspec": {
   "display_name": "Python 3",
   "language": "python",
   "name": "python3"
  },
  "language_info": {
   "codemirror_mode": {
    "name": "ipython",
    "version": 3
   },
   "file_extension": ".py",
   "mimetype": "text/x-python",
   "name": "python",
   "nbconvert_exporter": "python",
   "pygments_lexer": "ipython3",
   "version": "3.8.5"
  }
 },
 "nbformat": 4,
 "nbformat_minor": 1
}
